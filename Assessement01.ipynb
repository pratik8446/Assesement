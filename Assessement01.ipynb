{
 "cells": [
  {
   "cell_type": "code",
   "execution_count": 8,
   "metadata": {},
   "outputs": [
    {
     "name": "stdout",
     "output_type": "stream",
     "text": [
      "Total steps taken: 6\n"
     ]
    }
   ],
   "source": [
    "# Question No.2\n",
    "\n",
    "def total_steps(n, m):\n",
    "  if n < 0 or m <0:\n",
    "    return \"Invalid input.\"\n",
    "  total_steps = n // m\n",
    "\n",
    "  return total_steps\n",
    "\n",
    "n = int(input(\"Enter the number of stairs: \"))\n",
    "m = int(input(\"Enter the number of stairs covered in each step: \"))\n",
    "\n",
    "total_steps_required = total_steps(n, m)\n",
    "\n",
    "if isinstance(total_steps_required, str):\n",
    "  print(total_steps_required)\n",
    "else:\n",
    "  print(\"Total steps taken:\", total_steps_required)\n"
   ]
  },
  {
   "cell_type": "code",
   "execution_count": 16,
   "metadata": {},
   "outputs": [
    {
     "name": "stdout",
     "output_type": "stream",
     "text": [
      "10\n",
      "24 "
     ]
    }
   ],
   "source": [
    "#que 08\n",
    "\n",
    "arr = [23, 22, 24, 8, 9, 10]\n",
    "\n",
    "\n",
    "def leaders(arr):\n",
    "  current_leader = arr[-1] \n",
    "\n",
    "\n",
    "  for i in range(len(arr) - 2, -1, -1):\n",
    "    if arr[i] > current_leader:\n",
    "      print(arr[i], end=\" \")\n",
    "       # Print the leader directly\n",
    "      current_leader = arr[i]\n",
    "\n",
    "  # Check the first element (not compared in the loop)\n",
    "  if arr[0] > current_leader:\n",
    "    print(arr[0])\n",
    "\n",
    "print(current_leader)\n",
    "leaders(arr)\n"
   ]
  },
  {
   "cell_type": "code",
   "execution_count": 23,
   "metadata": {},
   "outputs": [
    {
     "name": "stdout",
     "output_type": "stream",
     "text": [
      "Yes\n",
      "No\n"
     ]
    }
   ],
   "source": [
    "# Que 09\n",
    "\n",
    "def are_anagrams(str1, str2):\n",
    " \n",
    "  str1 = str1.replace(\" \", \"\")\n",
    "  str2 = str2.replace(\" \", \"\")\n",
    "  if len(str1) != len(str2):\n",
    "    return False\n",
    "  \n",
    "  count1 = {}\n",
    "  for char in str1:\n",
    "    count1[char] = count1.get(char, 0) + 1\n",
    "\n",
    "  count2 = {}\n",
    "  for char in str2:\n",
    "    count2[char] = count2.get(char, 0) + 1\n",
    "  return count1 == count2\n",
    "\n",
    "str1 = \"coding\"\n",
    "str2 = \"ingodc\"\n",
    "if are_anagrams(str1, str2):\n",
    "  print(\"Yes\")\n",
    "else:\n",
    "  print(\"No\")\n",
    "\n",
    "str1 = \"hello\"\n",
    "str2 = \"hoeli\"\n",
    "if are_anagrams(str1, str2):\n",
    "  print(\"Yes\")\n",
    "else:\n",
    "  print(\"No\")\n"
   ]
  },
  {
   "cell_type": "code",
   "execution_count": 34,
   "metadata": {},
   "outputs": [
    {
     "name": "stdout",
     "output_type": "stream",
     "text": [
      "Number of Monkeys left on the Tree: 16\n"
     ]
    }
   ],
   "source": [
    "def monkeys_left(n, k, j, m, p):\n",
    "    \n",
    "    eatable_items = n * (k + j)\n",
    "    \n",
    "    # Calculate total available items\n",
    "    available_items = m + p\n",
    "    \n",
    "    # Check if there are enough items for all monkeys\n",
    "    if available_items > eatable_items:\n",
    "        return \"INVALID INPUT\"\n",
    "    \n",
    "    # Calculate the number of monkeys left\n",
    "    monkeys_left = n - (available_items // (k + j))\n",
    "    \n",
    "    return monkeys_left\n",
    "\n",
    "# Input values\n",
    "n = 20\n",
    "k = 2\n",
    "j = 3\n",
    "m = 12\n",
    "p = 12\n",
    "\n",
    "# Calculate the number of monkeys left\n",
    "result = monkeys_left(n, k, j, m, p)\n",
    "\n",
    "# Print the result\n",
    "print(f\"Number of Monkeys left on the Tree: {result}\")\n"
   ]
  },
  {
   "cell_type": "code",
   "execution_count": 39,
   "metadata": {},
   "outputs": [
    {
     "name": "stdout",
     "output_type": "stream",
     "text": [
      "\n",
      "After sorting:\n",
      "Sorted even array: 1 2 4 8 \n",
      "Sorted odd array: 6 6 9 \n",
      "The sum of the second largest numbers from both matrices is: 10\n"
     ]
    }
   ],
   "source": [
    "def input_matrix(size):\n",
    "    matrix = []     # Input matrix size\n",
    "    for i in range(size):\n",
    "        element = int(input(f\"Enter the element at index {i}: \"))\n",
    "        matrix.append(element)  #element enter\n",
    "    return matrix\n",
    "\n",
    "def divide_matrix(matrix):\n",
    "    even_matrix = [] #Odd and even numeber from array \n",
    "    odd_matrix = []\n",
    "    for i, element in enumerate(matrix): # Just google the enumerrate as I getting error. \n",
    "        if i % 2 == 0:\n",
    "            even_matrix.append(element)\n",
    "        else:\n",
    "            odd_matrix.append(element)\n",
    "    return even_matrix, odd_matrix\n",
    "\n",
    "def sort_matrix(matrix):\n",
    "    matrix.sort()\n",
    "    return matrix\n",
    "\n",
    "def main():\n",
    "    size = int(input(\"Enter the size of the array: \"))\n",
    "    main_matrix = input_matrix(size)\n",
    "\n",
    "    even_matrix, odd_matrix = divide_matrix(main_matrix)\n",
    "\n",
    "    sorted_even_matrix = sort_matrix(even_matrix)\n",
    "    sorted_odd_matrix = sort_matrix(odd_matrix)\n",
    "\n",
    "    print(\"\\nAfter sorting:\")\n",
    "    print(\"Sorted even array:\", end=\" \")\n",
    "    for element in sorted_even_matrix:\n",
    "        print(element, end=\" \")\n",
    "\n",
    "    print(\"\\nSorted odd array:\", end=\" \")\n",
    "    for element in sorted_odd_matrix:\n",
    "        print(element, end=\" \")\n",
    "\n",
    "    # Calculate the sum of the second largest numbers\n",
    "    second_largest_even = sorted_even_matrix[-2]\n",
    "    second_largest_odd = sorted_odd_matrix[-2]\n",
    "    total_sum = second_largest_even + second_largest_odd\n",
    "\n",
    "    print(f\"\\nThe sum of the second largest numbers from both matrices is: {total_sum}\")\n",
    "\n",
    "\n",
    "main()\n"
   ]
  }
 ],
 "metadata": {
  "kernelspec": {
   "display_name": "Python 3",
   "language": "python",
   "name": "python3"
  },
  "language_info": {
   "codemirror_mode": {
    "name": "ipython",
    "version": 3
   },
   "file_extension": ".py",
   "mimetype": "text/x-python",
   "name": "python",
   "nbconvert_exporter": "python",
   "pygments_lexer": "ipython3",
   "version": "3.11.4"
  }
 },
 "nbformat": 4,
 "nbformat_minor": 2
}
